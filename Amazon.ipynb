{
  "nbformat": 4,
  "nbformat_minor": 0,
  "metadata": {
    "colab": {
      "name": "Amazon.ipynb",
      "provenance": []
    },
    "kernelspec": {
      "name": "python3",
      "display_name": "Python 3"
    },
    "language_info": {
      "name": "python"
    }
  },
  "cells": [
    {
      "cell_type": "markdown",
      "source": [
        "Importing useful librabries"
      ],
      "metadata": {
        "id": "BsmIWBcScEG8"
      }
    },
    {
      "cell_type": "code",
      "source": [
        "from bs4 import BeautifulSoup\n",
        "import pandas as pd\n",
        "import requests\n",
        "HEADERS = ({'User-Agent':\n",
        "            'Mozilla/5.0 (Windows NT 10.0; Win64; x64) \\\n",
        "            AppleWebKit/537.36 (KHTML, like Gecko) \\\n",
        "            Chrome/90.0.4430.212 Safari/537.36',\n",
        "            'Accept-Language': 'en-US, en;q=0.5'})"
      ],
      "metadata": {
        "id": "K241qQvOgpTy"
      },
      "execution_count": 4,
      "outputs": []
    },
    {
      "cell_type": "markdown",
      "source": [
        "Creating BeautifulSoup object"
      ],
      "metadata": {
        "id": "vn2QKM8BpJaK"
      }
    },
    {
      "cell_type": "code",
      "source": [
        "r = requests.get('https://www.amazon.in/gp/bestsellers/books/',headers=HEADERS)\n",
        "soup = BeautifulSoup(r.content,'lxml')"
      ],
      "metadata": {
        "id": "Xoykp6dupG3A"
      },
      "execution_count": 12,
      "outputs": []
    },
    {
      "cell_type": "markdown",
      "source": [
        "Scraping one page"
      ],
      "metadata": {
        "id": "fu0ZJQTt33Mq"
      }
    },
    {
      "cell_type": "code",
      "source": [
        "cards = soup.find_all('div',attrs = {'id':'gridItemRoot'})\n",
        "len(cards)"
      ],
      "metadata": {
        "colab": {
          "base_uri": "https://localhost:8080/"
        },
        "id": "gbHBgrn63uxf",
        "outputId": "5266279e-4a98-437f-a965-38db49039cce"
      },
      "execution_count": 20,
      "outputs": [
        {
          "output_type": "execute_result",
          "data": {
            "text/plain": [
              "30"
            ]
          },
          "metadata": {},
          "execution_count": 20
        }
      ]
    },
    {
      "cell_type": "code",
      "source": [
        "n = []\n",
        "a = []\n",
        "r = []\n",
        "c = []\n",
        "p = []\n",
        "for card in cards:\n",
        "  #name\n",
        "  try:\n",
        "    name = card.find('div',{'class':'_cDEzb_p13n-sc-css-line-clamp-1_1Fn1y'}).text\n",
        "    n.append(name)\n",
        "  except:\n",
        "    n.append('N/A')\n",
        "  #author\n",
        "  try:\n",
        "    author = card.find('a',{'class':'a-size-small a-link-child'}).text\n",
        "    a.append(author)\n",
        "  except:\n",
        "    a.append('N/A')\n",
        "  #rating\n",
        "  try:\n",
        "    rate = card.find('span',{'class':'a-icon-alt'}).text.replace('out of 5 stars','').strip()\n",
        "    r.append(rate)\n",
        "  except:\n",
        "    r.append(0)\n",
        "  #price\n",
        "  try:\n",
        "    price = card.find('span',{'class':'_cDEzb_p13n-sc-price_3mJ9Z'}).text\n",
        "    p.append(price)\n",
        "  except:\n",
        "    p.append(0)\n",
        "\n"
      ],
      "metadata": {
        "id": "gcfzPVB4rfNn"
      },
      "execution_count": 46,
      "outputs": []
    },
    {
      "cell_type": "markdown",
      "source": [
        "Scraping multiple pages"
      ],
      "metadata": {
        "id": "7ImSmnNoARNH"
      }
    },
    {
      "cell_type": "code",
      "source": [
        "n = []\n",
        "a = []\n",
        "r = []\n",
        "c = []\n",
        "pr = []\n",
        "for p in range(1,9):\n",
        "  response = requests.get(f'https://www.amazon.in/gp/bestsellers/books/ref=zg_bs_pg_2?ie=UTF8&pg={p}',headers=HEADERS)\n",
        "  soup = BeautifulSoup(response.content,'lxml')\n",
        "  cards = soup.find_all('div',attrs = {'id':'gridItemRoot'})\n",
        "  for card in cards:\n",
        "  #name\n",
        "    try:\n",
        "      name = card.find('div',{'class':'_cDEzb_p13n-sc-css-line-clamp-1_1Fn1y'}).text\n",
        "      n.append(name)\n",
        "    except:\n",
        "      n.append('N/A')\n",
        "    #author\n",
        "    try:\n",
        "      author = card.find('a',{'class':'a-size-small a-link-child'}).text\n",
        "      a.append(author)\n",
        "    except:\n",
        "      a.append('N/A')\n",
        "    #rating\n",
        "    try:\n",
        "      rate = card.find('span',{'class':'a-icon-alt'}).text.replace('out of 5 stars','').strip()\n",
        "      r.append(rate)\n",
        "    except:\n",
        "      r.append(0)\n",
        "    #price\n",
        "    try:\n",
        "      price = card.find('span',{'class':'_cDEzb_p13n-sc-price_3mJ9Z'}).text\n",
        "      pr.append(price)\n",
        "    except:\n",
        "      pr.append(0)"
      ],
      "metadata": {
        "id": "NrOIL7JI7xqu"
      },
      "execution_count": 50,
      "outputs": []
    },
    {
      "cell_type": "code",
      "source": [
        "df = pd.DataFrame({'Title':n,'Author':a,'Rating':r,'Price':pr})\n",
        "df"
      ],
      "metadata": {
        "colab": {
          "base_uri": "https://localhost:8080/",
          "height": 662
        },
        "id": "AV5PP0EfCXBr",
        "outputId": "79a5eaf2-8321-48d1-c243-1dc31ec0232d"
      },
      "execution_count": 54,
      "outputs": [
        {
          "output_type": "execute_result",
          "data": {
            "text/plain": [
              "                                                 Title              Author  \\\n",
              "0                              The Psychology of Money       Morgan Housel   \n",
              "1                                     Mohammad Shakeel                 N/A   \n",
              "2    My First Library: Boxset of 10 Board Books for...  Wonder House Books   \n",
              "3    Rich Dad Poor Dad: What the Rich Teach Their K...  Robert T. Kiyosaki   \n",
              "4    Atomic Habits: The life-changing million copy ...         James Clear   \n",
              "..                                                 ...                 ...   \n",
              "235  The Politics: Aristotle's philosophy on \"Man\" ...           Aristotle   \n",
              "236  Pearson IIT Foundation Chemistry Class 9| 2022...                 N/A   \n",
              "237  The Rudest Book Ever Paperback – 9 December 20...    Shwetabh Gangwar   \n",
              "238  Combo Pack: Lakhmir Singh Class 9 Science (Bio...                 N/A   \n",
              "239  Foundation Science Physics For Class 10 by H.C...          H.C. Verma   \n",
              "\n",
              "    Rating      Price  \n",
              "0      4.6    ₹300.00  \n",
              "1        0    ₹284.00  \n",
              "2      4.5    ₹349.00  \n",
              "3      4.6    ₹299.00  \n",
              "4      4.6    ₹639.00  \n",
              "..     ...        ...  \n",
              "235    4.5     ₹98.00  \n",
              "236    4.6    ₹248.30  \n",
              "237    4.4          0  \n",
              "238    4.3  ₹1,285.00  \n",
              "239    4.5    ₹240.00  \n",
              "\n",
              "[240 rows x 4 columns]"
            ],
            "text/html": [
              "\n",
              "  <div id=\"df-867125ac-9248-4e8b-9524-5ca5f5db848a\">\n",
              "    <div class=\"colab-df-container\">\n",
              "      <div>\n",
              "<style scoped>\n",
              "    .dataframe tbody tr th:only-of-type {\n",
              "        vertical-align: middle;\n",
              "    }\n",
              "\n",
              "    .dataframe tbody tr th {\n",
              "        vertical-align: top;\n",
              "    }\n",
              "\n",
              "    .dataframe thead th {\n",
              "        text-align: right;\n",
              "    }\n",
              "</style>\n",
              "<table border=\"1\" class=\"dataframe\">\n",
              "  <thead>\n",
              "    <tr style=\"text-align: right;\">\n",
              "      <th></th>\n",
              "      <th>Title</th>\n",
              "      <th>Author</th>\n",
              "      <th>Rating</th>\n",
              "      <th>Price</th>\n",
              "    </tr>\n",
              "  </thead>\n",
              "  <tbody>\n",
              "    <tr>\n",
              "      <th>0</th>\n",
              "      <td>The Psychology of Money</td>\n",
              "      <td>Morgan Housel</td>\n",
              "      <td>4.6</td>\n",
              "      <td>₹300.00</td>\n",
              "    </tr>\n",
              "    <tr>\n",
              "      <th>1</th>\n",
              "      <td>Mohammad Shakeel</td>\n",
              "      <td>N/A</td>\n",
              "      <td>0</td>\n",
              "      <td>₹284.00</td>\n",
              "    </tr>\n",
              "    <tr>\n",
              "      <th>2</th>\n",
              "      <td>My First Library: Boxset of 10 Board Books for...</td>\n",
              "      <td>Wonder House Books</td>\n",
              "      <td>4.5</td>\n",
              "      <td>₹349.00</td>\n",
              "    </tr>\n",
              "    <tr>\n",
              "      <th>3</th>\n",
              "      <td>Rich Dad Poor Dad: What the Rich Teach Their K...</td>\n",
              "      <td>Robert T. Kiyosaki</td>\n",
              "      <td>4.6</td>\n",
              "      <td>₹299.00</td>\n",
              "    </tr>\n",
              "    <tr>\n",
              "      <th>4</th>\n",
              "      <td>Atomic Habits: The life-changing million copy ...</td>\n",
              "      <td>James Clear</td>\n",
              "      <td>4.6</td>\n",
              "      <td>₹639.00</td>\n",
              "    </tr>\n",
              "    <tr>\n",
              "      <th>...</th>\n",
              "      <td>...</td>\n",
              "      <td>...</td>\n",
              "      <td>...</td>\n",
              "      <td>...</td>\n",
              "    </tr>\n",
              "    <tr>\n",
              "      <th>235</th>\n",
              "      <td>The Politics: Aristotle's philosophy on \"Man\" ...</td>\n",
              "      <td>Aristotle</td>\n",
              "      <td>4.5</td>\n",
              "      <td>₹98.00</td>\n",
              "    </tr>\n",
              "    <tr>\n",
              "      <th>236</th>\n",
              "      <td>Pearson IIT Foundation Chemistry Class 9| 2022...</td>\n",
              "      <td>N/A</td>\n",
              "      <td>4.6</td>\n",
              "      <td>₹248.30</td>\n",
              "    </tr>\n",
              "    <tr>\n",
              "      <th>237</th>\n",
              "      <td>The Rudest Book Ever Paperback – 9 December 20...</td>\n",
              "      <td>Shwetabh Gangwar</td>\n",
              "      <td>4.4</td>\n",
              "      <td>0</td>\n",
              "    </tr>\n",
              "    <tr>\n",
              "      <th>238</th>\n",
              "      <td>Combo Pack: Lakhmir Singh Class 9 Science (Bio...</td>\n",
              "      <td>N/A</td>\n",
              "      <td>4.3</td>\n",
              "      <td>₹1,285.00</td>\n",
              "    </tr>\n",
              "    <tr>\n",
              "      <th>239</th>\n",
              "      <td>Foundation Science Physics For Class 10 by H.C...</td>\n",
              "      <td>H.C. Verma</td>\n",
              "      <td>4.5</td>\n",
              "      <td>₹240.00</td>\n",
              "    </tr>\n",
              "  </tbody>\n",
              "</table>\n",
              "<p>240 rows × 4 columns</p>\n",
              "</div>\n",
              "      <button class=\"colab-df-convert\" onclick=\"convertToInteractive('df-867125ac-9248-4e8b-9524-5ca5f5db848a')\"\n",
              "              title=\"Convert this dataframe to an interactive table.\"\n",
              "              style=\"display:none;\">\n",
              "        \n",
              "  <svg xmlns=\"http://www.w3.org/2000/svg\" height=\"24px\"viewBox=\"0 0 24 24\"\n",
              "       width=\"24px\">\n",
              "    <path d=\"M0 0h24v24H0V0z\" fill=\"none\"/>\n",
              "    <path d=\"M18.56 5.44l.94 2.06.94-2.06 2.06-.94-2.06-.94-.94-2.06-.94 2.06-2.06.94zm-11 1L8.5 8.5l.94-2.06 2.06-.94-2.06-.94L8.5 2.5l-.94 2.06-2.06.94zm10 10l.94 2.06.94-2.06 2.06-.94-2.06-.94-.94-2.06-.94 2.06-2.06.94z\"/><path d=\"M17.41 7.96l-1.37-1.37c-.4-.4-.92-.59-1.43-.59-.52 0-1.04.2-1.43.59L10.3 9.45l-7.72 7.72c-.78.78-.78 2.05 0 2.83L4 21.41c.39.39.9.59 1.41.59.51 0 1.02-.2 1.41-.59l7.78-7.78 2.81-2.81c.8-.78.8-2.07 0-2.86zM5.41 20L4 18.59l7.72-7.72 1.47 1.35L5.41 20z\"/>\n",
              "  </svg>\n",
              "      </button>\n",
              "      \n",
              "  <style>\n",
              "    .colab-df-container {\n",
              "      display:flex;\n",
              "      flex-wrap:wrap;\n",
              "      gap: 12px;\n",
              "    }\n",
              "\n",
              "    .colab-df-convert {\n",
              "      background-color: #E8F0FE;\n",
              "      border: none;\n",
              "      border-radius: 50%;\n",
              "      cursor: pointer;\n",
              "      display: none;\n",
              "      fill: #1967D2;\n",
              "      height: 32px;\n",
              "      padding: 0 0 0 0;\n",
              "      width: 32px;\n",
              "    }\n",
              "\n",
              "    .colab-df-convert:hover {\n",
              "      background-color: #E2EBFA;\n",
              "      box-shadow: 0px 1px 2px rgba(60, 64, 67, 0.3), 0px 1px 3px 1px rgba(60, 64, 67, 0.15);\n",
              "      fill: #174EA6;\n",
              "    }\n",
              "\n",
              "    [theme=dark] .colab-df-convert {\n",
              "      background-color: #3B4455;\n",
              "      fill: #D2E3FC;\n",
              "    }\n",
              "\n",
              "    [theme=dark] .colab-df-convert:hover {\n",
              "      background-color: #434B5C;\n",
              "      box-shadow: 0px 1px 3px 1px rgba(0, 0, 0, 0.15);\n",
              "      filter: drop-shadow(0px 1px 2px rgba(0, 0, 0, 0.3));\n",
              "      fill: #FFFFFF;\n",
              "    }\n",
              "  </style>\n",
              "\n",
              "      <script>\n",
              "        const buttonEl =\n",
              "          document.querySelector('#df-867125ac-9248-4e8b-9524-5ca5f5db848a button.colab-df-convert');\n",
              "        buttonEl.style.display =\n",
              "          google.colab.kernel.accessAllowed ? 'block' : 'none';\n",
              "\n",
              "        async function convertToInteractive(key) {\n",
              "          const element = document.querySelector('#df-867125ac-9248-4e8b-9524-5ca5f5db848a');\n",
              "          const dataTable =\n",
              "            await google.colab.kernel.invokeFunction('convertToInteractive',\n",
              "                                                     [key], {});\n",
              "          if (!dataTable) return;\n",
              "\n",
              "          const docLinkHtml = 'Like what you see? Visit the ' +\n",
              "            '<a target=\"_blank\" href=https://colab.research.google.com/notebooks/data_table.ipynb>data table notebook</a>'\n",
              "            + ' to learn more about interactive tables.';\n",
              "          element.innerHTML = '';\n",
              "          dataTable['output_type'] = 'display_data';\n",
              "          await google.colab.output.renderOutput(dataTable, element);\n",
              "          const docLink = document.createElement('div');\n",
              "          docLink.innerHTML = docLinkHtml;\n",
              "          element.appendChild(docLink);\n",
              "        }\n",
              "      </script>\n",
              "    </div>\n",
              "  </div>\n",
              "  "
            ]
          },
          "metadata": {},
          "execution_count": 54
        }
      ]
    },
    {
      "cell_type": "markdown",
      "source": [
        "Converting to csv,Excel"
      ],
      "metadata": {
        "id": "DzTjpyYkDSfe"
      }
    },
    {
      "cell_type": "code",
      "source": [
        "df.to_csv('Bestsellers in Books.csv')\n",
        "df.to_excel('Bestsellers in Books.xlsx')"
      ],
      "metadata": {
        "id": "8XLk3RUUpHLV"
      },
      "execution_count": 56,
      "outputs": []
    },
    {
      "cell_type": "markdown",
      "source": [
        "## **Thank you ❤**"
      ],
      "metadata": {
        "id": "NJew2tmSDws2"
      }
    },
    {
      "cell_type": "code",
      "source": [
        ""
      ],
      "metadata": {
        "id": "jNEm0c8FpHSZ"
      },
      "execution_count": null,
      "outputs": []
    },
    {
      "cell_type": "code",
      "source": [
        ""
      ],
      "metadata": {
        "id": "t7baBHtCpHaP"
      },
      "execution_count": null,
      "outputs": []
    },
    {
      "cell_type": "code",
      "source": [
        ""
      ],
      "metadata": {
        "id": "3KrYidTjpHgE"
      },
      "execution_count": null,
      "outputs": []
    },
    {
      "cell_type": "code",
      "source": [
        ""
      ],
      "metadata": {
        "id": "BAN5Mu8QpHm6"
      },
      "execution_count": null,
      "outputs": []
    },
    {
      "cell_type": "code",
      "source": [
        ""
      ],
      "metadata": {
        "id": "QgbZreUjpHr8"
      },
      "execution_count": null,
      "outputs": []
    },
    {
      "cell_type": "code",
      "source": [
        ""
      ],
      "metadata": {
        "id": "ZTXz8LJQpHxK"
      },
      "execution_count": null,
      "outputs": []
    },
    {
      "cell_type": "code",
      "source": [
        ""
      ],
      "metadata": {
        "id": "4rRp3KUCpH2U"
      },
      "execution_count": null,
      "outputs": []
    },
    {
      "cell_type": "code",
      "source": [
        ""
      ],
      "metadata": {
        "id": "nBf-3PcbpH7Y"
      },
      "execution_count": null,
      "outputs": []
    },
    {
      "cell_type": "code",
      "source": [
        ""
      ],
      "metadata": {
        "id": "7voVjFQhpIAi"
      },
      "execution_count": null,
      "outputs": []
    },
    {
      "cell_type": "code",
      "source": [
        ""
      ],
      "metadata": {
        "id": "p7raOjDOpIFI"
      },
      "execution_count": null,
      "outputs": []
    },
    {
      "cell_type": "code",
      "source": [
        ""
      ],
      "metadata": {
        "id": "IGZDy8QkpIJu"
      },
      "execution_count": null,
      "outputs": []
    },
    {
      "cell_type": "code",
      "source": [
        ""
      ],
      "metadata": {
        "id": "yqxJu1EFpIOK"
      },
      "execution_count": null,
      "outputs": []
    },
    {
      "cell_type": "code",
      "source": [
        ""
      ],
      "metadata": {
        "id": "m02k6heapIR-"
      },
      "execution_count": null,
      "outputs": []
    }
  ]
}